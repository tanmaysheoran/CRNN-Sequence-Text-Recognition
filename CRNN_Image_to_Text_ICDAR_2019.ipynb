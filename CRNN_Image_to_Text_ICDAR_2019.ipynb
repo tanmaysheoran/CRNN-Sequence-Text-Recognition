{
  "nbformat": 4,
  "nbformat_minor": 0,
  "metadata": {
    "colab": {
      "name": "Copy of CRNN Image to Text - ICDAR 2019.ipynb",
      "provenance": [],
      "collapsed_sections": []
    },
    "kernelspec": {
      "name": "python3",
      "display_name": "Python 3"
    },
    "accelerator": "GPU",
    "widgets": {
      "application/vnd.jupyter.widget-state+json": {
        "282e603c25704a72998ec036f5e86f40": {
          "model_module": "@jupyter-widgets/controls",
          "model_name": "HBoxModel",
          "state": {
            "_view_name": "HBoxView",
            "_dom_classes": [],
            "_model_name": "HBoxModel",
            "_view_module": "@jupyter-widgets/controls",
            "_model_module_version": "1.5.0",
            "_view_count": null,
            "_view_module_version": "1.5.0",
            "box_style": "",
            "layout": "IPY_MODEL_9ee1ee7ace394dd5ac7b86ec98fb18b0",
            "_model_module": "@jupyter-widgets/controls",
            "children": [
              "IPY_MODEL_bc36c630ff2d40abaa57460655feaa37",
              "IPY_MODEL_339bd4c2404b4f4eb20dd30179c9e415"
            ]
          }
        },
        "9ee1ee7ace394dd5ac7b86ec98fb18b0": {
          "model_module": "@jupyter-widgets/base",
          "model_name": "LayoutModel",
          "state": {
            "_view_name": "LayoutView",
            "grid_template_rows": null,
            "right": null,
            "justify_content": null,
            "_view_module": "@jupyter-widgets/base",
            "overflow": null,
            "_model_module_version": "1.2.0",
            "_view_count": null,
            "flex_flow": null,
            "width": null,
            "min_width": null,
            "border": null,
            "align_items": null,
            "bottom": null,
            "_model_module": "@jupyter-widgets/base",
            "top": null,
            "grid_column": null,
            "overflow_y": null,
            "overflow_x": null,
            "grid_auto_flow": null,
            "grid_area": null,
            "grid_template_columns": null,
            "flex": null,
            "_model_name": "LayoutModel",
            "justify_items": null,
            "grid_row": null,
            "max_height": null,
            "align_content": null,
            "visibility": null,
            "align_self": null,
            "height": null,
            "min_height": null,
            "padding": null,
            "grid_auto_rows": null,
            "grid_gap": null,
            "max_width": null,
            "order": null,
            "_view_module_version": "1.2.0",
            "grid_template_areas": null,
            "object_position": null,
            "object_fit": null,
            "grid_auto_columns": null,
            "margin": null,
            "display": null,
            "left": null
          }
        },
        "bc36c630ff2d40abaa57460655feaa37": {
          "model_module": "@jupyter-widgets/controls",
          "model_name": "FloatProgressModel",
          "state": {
            "_view_name": "ProgressView",
            "style": "IPY_MODEL_eda44dd23f5c4ee79042ed71a4608bfa",
            "_dom_classes": [],
            "description": "Finding Maximum Width and Height...: 100%",
            "_model_name": "FloatProgressModel",
            "bar_style": "",
            "max": 626,
            "_view_module": "@jupyter-widgets/controls",
            "_model_module_version": "1.5.0",
            "value": 626,
            "_view_count": null,
            "_view_module_version": "1.5.0",
            "orientation": "horizontal",
            "min": 0,
            "description_tooltip": null,
            "_model_module": "@jupyter-widgets/controls",
            "layout": "IPY_MODEL_281dea978eb14d5f8b715b1faf2bcad1"
          }
        },
        "339bd4c2404b4f4eb20dd30179c9e415": {
          "model_module": "@jupyter-widgets/controls",
          "model_name": "HTMLModel",
          "state": {
            "_view_name": "HTMLView",
            "style": "IPY_MODEL_c8b0aee86fb147f0a32126462cfd6e78",
            "_dom_classes": [],
            "description": "",
            "_model_name": "HTMLModel",
            "placeholder": "​",
            "_view_module": "@jupyter-widgets/controls",
            "_model_module_version": "1.5.0",
            "value": " 626/626 [01:13&lt;00:00,  6.50it/s]",
            "_view_count": null,
            "_view_module_version": "1.5.0",
            "description_tooltip": null,
            "_model_module": "@jupyter-widgets/controls",
            "layout": "IPY_MODEL_45a1ded0caf347869ee75566a9552c0c"
          }
        },
        "eda44dd23f5c4ee79042ed71a4608bfa": {
          "model_module": "@jupyter-widgets/controls",
          "model_name": "ProgressStyleModel",
          "state": {
            "_view_name": "StyleView",
            "_model_name": "ProgressStyleModel",
            "description_width": "initial",
            "_view_module": "@jupyter-widgets/base",
            "_model_module_version": "1.5.0",
            "_view_count": null,
            "_view_module_version": "1.2.0",
            "bar_color": null,
            "_model_module": "@jupyter-widgets/controls"
          }
        },
        "281dea978eb14d5f8b715b1faf2bcad1": {
          "model_module": "@jupyter-widgets/base",
          "model_name": "LayoutModel",
          "state": {
            "_view_name": "LayoutView",
            "grid_template_rows": null,
            "right": null,
            "justify_content": null,
            "_view_module": "@jupyter-widgets/base",
            "overflow": null,
            "_model_module_version": "1.2.0",
            "_view_count": null,
            "flex_flow": null,
            "width": null,
            "min_width": null,
            "border": null,
            "align_items": null,
            "bottom": null,
            "_model_module": "@jupyter-widgets/base",
            "top": null,
            "grid_column": null,
            "overflow_y": null,
            "overflow_x": null,
            "grid_auto_flow": null,
            "grid_area": null,
            "grid_template_columns": null,
            "flex": null,
            "_model_name": "LayoutModel",
            "justify_items": null,
            "grid_row": null,
            "max_height": null,
            "align_content": null,
            "visibility": null,
            "align_self": null,
            "height": null,
            "min_height": null,
            "padding": null,
            "grid_auto_rows": null,
            "grid_gap": null,
            "max_width": null,
            "order": null,
            "_view_module_version": "1.2.0",
            "grid_template_areas": null,
            "object_position": null,
            "object_fit": null,
            "grid_auto_columns": null,
            "margin": null,
            "display": null,
            "left": null
          }
        },
        "c8b0aee86fb147f0a32126462cfd6e78": {
          "model_module": "@jupyter-widgets/controls",
          "model_name": "DescriptionStyleModel",
          "state": {
            "_view_name": "StyleView",
            "_model_name": "DescriptionStyleModel",
            "description_width": "",
            "_view_module": "@jupyter-widgets/base",
            "_model_module_version": "1.5.0",
            "_view_count": null,
            "_view_module_version": "1.2.0",
            "_model_module": "@jupyter-widgets/controls"
          }
        },
        "45a1ded0caf347869ee75566a9552c0c": {
          "model_module": "@jupyter-widgets/base",
          "model_name": "LayoutModel",
          "state": {
            "_view_name": "LayoutView",
            "grid_template_rows": null,
            "right": null,
            "justify_content": null,
            "_view_module": "@jupyter-widgets/base",
            "overflow": null,
            "_model_module_version": "1.2.0",
            "_view_count": null,
            "flex_flow": null,
            "width": null,
            "min_width": null,
            "border": null,
            "align_items": null,
            "bottom": null,
            "_model_module": "@jupyter-widgets/base",
            "top": null,
            "grid_column": null,
            "overflow_y": null,
            "overflow_x": null,
            "grid_auto_flow": null,
            "grid_area": null,
            "grid_template_columns": null,
            "flex": null,
            "_model_name": "LayoutModel",
            "justify_items": null,
            "grid_row": null,
            "max_height": null,
            "align_content": null,
            "visibility": null,
            "align_self": null,
            "height": null,
            "min_height": null,
            "padding": null,
            "grid_auto_rows": null,
            "grid_gap": null,
            "max_width": null,
            "order": null,
            "_view_module_version": "1.2.0",
            "grid_template_areas": null,
            "object_position": null,
            "object_fit": null,
            "grid_auto_columns": null,
            "margin": null,
            "display": null,
            "left": null
          }
        },
        "7573c4fedf7d4f3eb9b09b9c102e5ebc": {
          "model_module": "@jupyter-widgets/controls",
          "model_name": "HBoxModel",
          "state": {
            "_view_name": "HBoxView",
            "_dom_classes": [],
            "_model_name": "HBoxModel",
            "_view_module": "@jupyter-widgets/controls",
            "_model_module_version": "1.5.0",
            "_view_count": null,
            "_view_module_version": "1.5.0",
            "box_style": "",
            "layout": "IPY_MODEL_a1ee315a2570435ea2e41d1a39295f4b",
            "_model_module": "@jupyter-widgets/controls",
            "children": [
              "IPY_MODEL_d3d53a33d1c046e4be80cfa0c53bf128",
              "IPY_MODEL_76821d7390d4484f96a328976e59a354"
            ]
          }
        },
        "a1ee315a2570435ea2e41d1a39295f4b": {
          "model_module": "@jupyter-widgets/base",
          "model_name": "LayoutModel",
          "state": {
            "_view_name": "LayoutView",
            "grid_template_rows": null,
            "right": null,
            "justify_content": null,
            "_view_module": "@jupyter-widgets/base",
            "overflow": null,
            "_model_module_version": "1.2.0",
            "_view_count": null,
            "flex_flow": null,
            "width": null,
            "min_width": null,
            "border": null,
            "align_items": null,
            "bottom": null,
            "_model_module": "@jupyter-widgets/base",
            "top": null,
            "grid_column": null,
            "overflow_y": null,
            "overflow_x": null,
            "grid_auto_flow": null,
            "grid_area": null,
            "grid_template_columns": null,
            "flex": null,
            "_model_name": "LayoutModel",
            "justify_items": null,
            "grid_row": null,
            "max_height": null,
            "align_content": null,
            "visibility": null,
            "align_self": null,
            "height": null,
            "min_height": null,
            "padding": null,
            "grid_auto_rows": null,
            "grid_gap": null,
            "max_width": null,
            "order": null,
            "_view_module_version": "1.2.0",
            "grid_template_areas": null,
            "object_position": null,
            "object_fit": null,
            "grid_auto_columns": null,
            "margin": null,
            "display": null,
            "left": null
          }
        },
        "d3d53a33d1c046e4be80cfa0c53bf128": {
          "model_module": "@jupyter-widgets/controls",
          "model_name": "FloatProgressModel",
          "state": {
            "_view_name": "ProgressView",
            "style": "IPY_MODEL_ce484c8713a14c6ebeebdf033e17eec6",
            "_dom_classes": [],
            "description": "Preprocessing Images...: 100%",
            "_model_name": "FloatProgressModel",
            "bar_style": "",
            "max": 626,
            "_view_module": "@jupyter-widgets/controls",
            "_model_module_version": "1.5.0",
            "value": 626,
            "_view_count": null,
            "_view_module_version": "1.5.0",
            "orientation": "horizontal",
            "min": 0,
            "description_tooltip": null,
            "_model_module": "@jupyter-widgets/controls",
            "layout": "IPY_MODEL_c266df7f6de14d18b5686305da93a8c7"
          }
        },
        "76821d7390d4484f96a328976e59a354": {
          "model_module": "@jupyter-widgets/controls",
          "model_name": "HTMLModel",
          "state": {
            "_view_name": "HTMLView",
            "style": "IPY_MODEL_473eeca9d38e4e1f9894c651b3e7d0f3",
            "_dom_classes": [],
            "description": "",
            "_model_name": "HTMLModel",
            "placeholder": "​",
            "_view_module": "@jupyter-widgets/controls",
            "_model_module_version": "1.5.0",
            "value": " 626/626 [05:06&lt;00:00,  2.04it/s]",
            "_view_count": null,
            "_view_module_version": "1.5.0",
            "description_tooltip": null,
            "_model_module": "@jupyter-widgets/controls",
            "layout": "IPY_MODEL_64a145fe83b448fdb14a11759f9a6db8"
          }
        },
        "ce484c8713a14c6ebeebdf033e17eec6": {
          "model_module": "@jupyter-widgets/controls",
          "model_name": "ProgressStyleModel",
          "state": {
            "_view_name": "StyleView",
            "_model_name": "ProgressStyleModel",
            "description_width": "initial",
            "_view_module": "@jupyter-widgets/base",
            "_model_module_version": "1.5.0",
            "_view_count": null,
            "_view_module_version": "1.2.0",
            "bar_color": null,
            "_model_module": "@jupyter-widgets/controls"
          }
        },
        "c266df7f6de14d18b5686305da93a8c7": {
          "model_module": "@jupyter-widgets/base",
          "model_name": "LayoutModel",
          "state": {
            "_view_name": "LayoutView",
            "grid_template_rows": null,
            "right": null,
            "justify_content": null,
            "_view_module": "@jupyter-widgets/base",
            "overflow": null,
            "_model_module_version": "1.2.0",
            "_view_count": null,
            "flex_flow": null,
            "width": null,
            "min_width": null,
            "border": null,
            "align_items": null,
            "bottom": null,
            "_model_module": "@jupyter-widgets/base",
            "top": null,
            "grid_column": null,
            "overflow_y": null,
            "overflow_x": null,
            "grid_auto_flow": null,
            "grid_area": null,
            "grid_template_columns": null,
            "flex": null,
            "_model_name": "LayoutModel",
            "justify_items": null,
            "grid_row": null,
            "max_height": null,
            "align_content": null,
            "visibility": null,
            "align_self": null,
            "height": null,
            "min_height": null,
            "padding": null,
            "grid_auto_rows": null,
            "grid_gap": null,
            "max_width": null,
            "order": null,
            "_view_module_version": "1.2.0",
            "grid_template_areas": null,
            "object_position": null,
            "object_fit": null,
            "grid_auto_columns": null,
            "margin": null,
            "display": null,
            "left": null
          }
        },
        "473eeca9d38e4e1f9894c651b3e7d0f3": {
          "model_module": "@jupyter-widgets/controls",
          "model_name": "DescriptionStyleModel",
          "state": {
            "_view_name": "StyleView",
            "_model_name": "DescriptionStyleModel",
            "description_width": "",
            "_view_module": "@jupyter-widgets/base",
            "_model_module_version": "1.5.0",
            "_view_count": null,
            "_view_module_version": "1.2.0",
            "_model_module": "@jupyter-widgets/controls"
          }
        },
        "64a145fe83b448fdb14a11759f9a6db8": {
          "model_module": "@jupyter-widgets/base",
          "model_name": "LayoutModel",
          "state": {
            "_view_name": "LayoutView",
            "grid_template_rows": null,
            "right": null,
            "justify_content": null,
            "_view_module": "@jupyter-widgets/base",
            "overflow": null,
            "_model_module_version": "1.2.0",
            "_view_count": null,
            "flex_flow": null,
            "width": null,
            "min_width": null,
            "border": null,
            "align_items": null,
            "bottom": null,
            "_model_module": "@jupyter-widgets/base",
            "top": null,
            "grid_column": null,
            "overflow_y": null,
            "overflow_x": null,
            "grid_auto_flow": null,
            "grid_area": null,
            "grid_template_columns": null,
            "flex": null,
            "_model_name": "LayoutModel",
            "justify_items": null,
            "grid_row": null,
            "max_height": null,
            "align_content": null,
            "visibility": null,
            "align_self": null,
            "height": null,
            "min_height": null,
            "padding": null,
            "grid_auto_rows": null,
            "grid_gap": null,
            "max_width": null,
            "order": null,
            "_view_module_version": "1.2.0",
            "grid_template_areas": null,
            "object_position": null,
            "object_fit": null,
            "grid_auto_columns": null,
            "margin": null,
            "display": null,
            "left": null
          }
        },
        "1adab5b1298e40919d7ccec632fda5d7": {
          "model_module": "@jupyter-widgets/controls",
          "model_name": "HBoxModel",
          "state": {
            "_view_name": "HBoxView",
            "_dom_classes": [],
            "_model_name": "HBoxModel",
            "_view_module": "@jupyter-widgets/controls",
            "_model_module_version": "1.5.0",
            "_view_count": null,
            "_view_module_version": "1.5.0",
            "box_style": "",
            "layout": "IPY_MODEL_6ce1b10bdc574754a414574485d10c58",
            "_model_module": "@jupyter-widgets/controls",
            "children": [
              "IPY_MODEL_f90d7af32b95484c9a712c5f57ee3263",
              "IPY_MODEL_7cc217910f6e449faa1161acdb4f5194"
            ]
          }
        },
        "6ce1b10bdc574754a414574485d10c58": {
          "model_module": "@jupyter-widgets/base",
          "model_name": "LayoutModel",
          "state": {
            "_view_name": "LayoutView",
            "grid_template_rows": null,
            "right": null,
            "justify_content": null,
            "_view_module": "@jupyter-widgets/base",
            "overflow": null,
            "_model_module_version": "1.2.0",
            "_view_count": null,
            "flex_flow": null,
            "width": null,
            "min_width": null,
            "border": null,
            "align_items": null,
            "bottom": null,
            "_model_module": "@jupyter-widgets/base",
            "top": null,
            "grid_column": null,
            "overflow_y": null,
            "overflow_x": null,
            "grid_auto_flow": null,
            "grid_area": null,
            "grid_template_columns": null,
            "flex": null,
            "_model_name": "LayoutModel",
            "justify_items": null,
            "grid_row": null,
            "max_height": null,
            "align_content": null,
            "visibility": null,
            "align_self": null,
            "height": null,
            "min_height": null,
            "padding": null,
            "grid_auto_rows": null,
            "grid_gap": null,
            "max_width": null,
            "order": null,
            "_view_module_version": "1.2.0",
            "grid_template_areas": null,
            "object_position": null,
            "object_fit": null,
            "grid_auto_columns": null,
            "margin": null,
            "display": null,
            "left": null
          }
        },
        "f90d7af32b95484c9a712c5f57ee3263": {
          "model_module": "@jupyter-widgets/controls",
          "model_name": "FloatProgressModel",
          "state": {
            "_view_name": "ProgressView",
            "style": "IPY_MODEL_aeabe9767e42461abadab42db2e4fb69",
            "_dom_classes": [],
            "description": "Saving data to array for preprocessing...: 100%",
            "_model_name": "FloatProgressModel",
            "bar_style": "",
            "max": 626,
            "_view_module": "@jupyter-widgets/controls",
            "_model_module_version": "1.5.0",
            "value": 626,
            "_view_count": null,
            "_view_module_version": "1.5.0",
            "orientation": "horizontal",
            "min": 0,
            "description_tooltip": null,
            "_model_module": "@jupyter-widgets/controls",
            "layout": "IPY_MODEL_f676baa806c6488f96372922ac2c605d"
          }
        },
        "7cc217910f6e449faa1161acdb4f5194": {
          "model_module": "@jupyter-widgets/controls",
          "model_name": "HTMLModel",
          "state": {
            "_view_name": "HTMLView",
            "style": "IPY_MODEL_998a6079ff994f8c9cf38ddc31211054",
            "_dom_classes": [],
            "description": "",
            "_model_name": "HTMLModel",
            "placeholder": "​",
            "_view_module": "@jupyter-widgets/controls",
            "_model_module_version": "1.5.0",
            "value": " 626/626 [01:47&lt;00:00,  1.83it/s]",
            "_view_count": null,
            "_view_module_version": "1.5.0",
            "description_tooltip": null,
            "_model_module": "@jupyter-widgets/controls",
            "layout": "IPY_MODEL_969349808749445a9f5671980f07ba93"
          }
        },
        "aeabe9767e42461abadab42db2e4fb69": {
          "model_module": "@jupyter-widgets/controls",
          "model_name": "ProgressStyleModel",
          "state": {
            "_view_name": "StyleView",
            "_model_name": "ProgressStyleModel",
            "description_width": "initial",
            "_view_module": "@jupyter-widgets/base",
            "_model_module_version": "1.5.0",
            "_view_count": null,
            "_view_module_version": "1.2.0",
            "bar_color": null,
            "_model_module": "@jupyter-widgets/controls"
          }
        },
        "f676baa806c6488f96372922ac2c605d": {
          "model_module": "@jupyter-widgets/base",
          "model_name": "LayoutModel",
          "state": {
            "_view_name": "LayoutView",
            "grid_template_rows": null,
            "right": null,
            "justify_content": null,
            "_view_module": "@jupyter-widgets/base",
            "overflow": null,
            "_model_module_version": "1.2.0",
            "_view_count": null,
            "flex_flow": null,
            "width": null,
            "min_width": null,
            "border": null,
            "align_items": null,
            "bottom": null,
            "_model_module": "@jupyter-widgets/base",
            "top": null,
            "grid_column": null,
            "overflow_y": null,
            "overflow_x": null,
            "grid_auto_flow": null,
            "grid_area": null,
            "grid_template_columns": null,
            "flex": null,
            "_model_name": "LayoutModel",
            "justify_items": null,
            "grid_row": null,
            "max_height": null,
            "align_content": null,
            "visibility": null,
            "align_self": null,
            "height": null,
            "min_height": null,
            "padding": null,
            "grid_auto_rows": null,
            "grid_gap": null,
            "max_width": null,
            "order": null,
            "_view_module_version": "1.2.0",
            "grid_template_areas": null,
            "object_position": null,
            "object_fit": null,
            "grid_auto_columns": null,
            "margin": null,
            "display": null,
            "left": null
          }
        },
        "998a6079ff994f8c9cf38ddc31211054": {
          "model_module": "@jupyter-widgets/controls",
          "model_name": "DescriptionStyleModel",
          "state": {
            "_view_name": "StyleView",
            "_model_name": "DescriptionStyleModel",
            "description_width": "",
            "_view_module": "@jupyter-widgets/base",
            "_model_module_version": "1.5.0",
            "_view_count": null,
            "_view_module_version": "1.2.0",
            "_model_module": "@jupyter-widgets/controls"
          }
        },
        "969349808749445a9f5671980f07ba93": {
          "model_module": "@jupyter-widgets/base",
          "model_name": "LayoutModel",
          "state": {
            "_view_name": "LayoutView",
            "grid_template_rows": null,
            "right": null,
            "justify_content": null,
            "_view_module": "@jupyter-widgets/base",
            "overflow": null,
            "_model_module_version": "1.2.0",
            "_view_count": null,
            "flex_flow": null,
            "width": null,
            "min_width": null,
            "border": null,
            "align_items": null,
            "bottom": null,
            "_model_module": "@jupyter-widgets/base",
            "top": null,
            "grid_column": null,
            "overflow_y": null,
            "overflow_x": null,
            "grid_auto_flow": null,
            "grid_area": null,
            "grid_template_columns": null,
            "flex": null,
            "_model_name": "LayoutModel",
            "justify_items": null,
            "grid_row": null,
            "max_height": null,
            "align_content": null,
            "visibility": null,
            "align_self": null,
            "height": null,
            "min_height": null,
            "padding": null,
            "grid_auto_rows": null,
            "grid_gap": null,
            "max_width": null,
            "order": null,
            "_view_module_version": "1.2.0",
            "grid_template_areas": null,
            "object_position": null,
            "object_fit": null,
            "grid_auto_columns": null,
            "margin": null,
            "display": null,
            "left": null
          }
        }
      }
    }
  },
  "cells": [
    {
      "cell_type": "markdown",
      "metadata": {
        "id": "P5OJLP95vAVf"
      },
      "source": [
        "# **CRNN for Image to Text**"
      ]
    },
    {
      "cell_type": "markdown",
      "metadata": {
        "id": "tvLKpMUMvSQK"
      },
      "source": [
        "**Importing necesary libraries**"
      ]
    },
    {
      "cell_type": "code",
      "metadata": {
        "id": "N3i2_IrUdZuv"
      },
      "source": [
        "import tensorflow as tf\n",
        "import keras.backend as K\n",
        "import numpy as np\n",
        "import matplotlib.image as mpimg\n",
        "import os"
      ],
      "execution_count": null,
      "outputs": []
    },
    {
      "cell_type": "markdown",
      "metadata": {
        "id": "Wm0aXgVTvWk2"
      },
      "source": [
        "# **Getting necessary data**\n",
        "All the images and text were filtered and sorted in two folders, many duplicate files were deleted and labeling of the data was checked and matched"
      ]
    },
    {
      "cell_type": "code",
      "metadata": {
        "id": "7YfNlNVjczSY"
      },
      "source": [
        "img_path = '/content/drive/My Drive/DATA ML/0325updated.task2train(626p)/images'\n",
        "txt_path = '/content/drive/My Drive/DATA ML/0325updated.task2train(626p)/text'"
      ],
      "execution_count": null,
      "outputs": []
    },
    {
      "cell_type": "markdown",
      "metadata": {
        "id": "Q8nExpPywP9j"
      },
      "source": [
        "#**Image Preprocessing**\n",
        "The images present in the dataset had different sizes and different channels, to tackle that, maximum length and width were taken by iterating on all images.\n",
        "\n",
        "All the images were padded to the same length and width and converted to grayscale.\n",
        "\n",
        "Due to the size of the images being large, images were saved to the hard drive and can be accessed whenever needed"
      ]
    },
    {
      "cell_type": "code",
      "metadata": {
        "id": "jLHhG4htyXE3"
      },
      "source": [
        "##IMAGE PREPROCESSING ##\n",
        "def preprocess_image(path):\n",
        "  import tensorflow\n",
        "  import os\n",
        "  import cv2\n",
        "  import matplotlib.image\n",
        "  from tqdm.auto import tqdm\n",
        "  cwd = os.getcwd()\n",
        "  preprocess_image.w = 0\n",
        "  preprocess_image.h = 0\n",
        "  num = 0\n",
        "  total = 0\n",
        "  for image_path in os.listdir(path):\n",
        "    total +=1\n",
        "  directory = str(cwd)+'/training_prep_img'\n",
        "  os.mkdir(directory)\n",
        "  loop = tqdm(total=total, position=0, leave=False)\n",
        "  for k in range(total):\n",
        "    loop.set_description(\"Finding Maximum Width and Height...\".format(k))\n",
        "    #Finding the maximum length and width of the image\n",
        "  for image_path in os.listdir(path):\n",
        "    input_path = os.path.join(path, image_path)\n",
        "    img = matplotlib.image.imread(input_path)\n",
        "    if len(img.shape) == 3:\n",
        "      a, b, c = img.shape\n",
        "    elif len(img.shape) == 2:\n",
        "      a, b = img.shape  \n",
        "    if a > preprocess_image.w:\n",
        "      preprocess_image.w = a\n",
        "    if b > preprocess_image.h:\n",
        "      preprocess_image.h = b  \n",
        "    else:\n",
        "      pass\n",
        "    loop.update(1)\n",
        "  print('Maximum Width: ' +str(preprocess_image.w))\n",
        "  print('Maximum Height: ' +str(preprocess_image.h))\n",
        "  loop2 = tqdm(total=total, position=0, leave=False)\n",
        "  for m in range(total):\n",
        "    loop2.set_description(\"Preprocessing Images...\".format(m))\n",
        "    #preprocessing the images to pad them to maximum length and width and converted to grayscale\n",
        "  for image_path in os.listdir(path):\n",
        "    input_path = os.path.join(path, image_path)\n",
        "    img = matplotlib.image.imread(input_path)\n",
        "\n",
        "    if len(img.shape) == 3:\n",
        "      a, b, c = img.shape\n",
        "    elif len(img.shape) == 2:\n",
        "      a, b = img.shape\n",
        "      c = 0\n",
        "\n",
        "    if a == preprocess_image.w and b == preprocess_image.h:\n",
        "      if c <= 1:\n",
        "        img2numpy = tensorflow.keras.preprocessing.image.img_to_array(img, data_format='channels_last', dtype=None)\n",
        "      else:\n",
        "        gray_img = tensorflow.image.rgb_to_grayscale(img, name=None)\n",
        "        std_img = tensorflow.image.per_image_standardization(gray_img)\n",
        "        img2numpy = tensorflow.keras.preprocessing.image.img_to_array(std_img, data_format='channels_last', dtype=None)\n",
        "\n",
        "    else:\n",
        "      gray_img = tensorflow.image.rgb_to_grayscale(img, name=None)\n",
        "      padded_img = tensorflow.image.resize_with_pad(gray_img, preprocess_image.h, preprocess_image.w, method='bicubic', antialias=False)\n",
        "      std_img = tensorflow.image.per_image_standardization(padded_img)\n",
        "      img2numpy = tensorflow.keras.preprocessing.image.img_to_array(std_img, data_format='channels_last', dtype=None)\n",
        "    num += 1\n",
        " \n",
        "    filename = image_path\n",
        "    os.chdir(directory)\n",
        "    img = cv2.convertScaleAbs(img2numpy, alpha=(255.0))\n",
        "    cv2.imwrite(filename, img)\n",
        "    #print('Number of files Preprocessed : '+str(num)) \n",
        "    os.chdir(cwd)\n",
        "    loop2.update(1)"
      ],
      "execution_count": null,
      "outputs": []
    },
    {
      "cell_type": "code",
      "metadata": {
        "id": "-kbSYOsKycJG",
        "outputId": "7f7df316-e64b-4711-80b9-25ccb813c2ea",
        "colab": {
          "base_uri": "https://localhost:8080/",
          "height": 116,
          "referenced_widgets": [
            "282e603c25704a72998ec036f5e86f40",
            "9ee1ee7ace394dd5ac7b86ec98fb18b0",
            "bc36c630ff2d40abaa57460655feaa37",
            "339bd4c2404b4f4eb20dd30179c9e415",
            "eda44dd23f5c4ee79042ed71a4608bfa",
            "281dea978eb14d5f8b715b1faf2bcad1",
            "c8b0aee86fb147f0a32126462cfd6e78",
            "45a1ded0caf347869ee75566a9552c0c",
            "7573c4fedf7d4f3eb9b09b9c102e5ebc",
            "a1ee315a2570435ea2e41d1a39295f4b",
            "d3d53a33d1c046e4be80cfa0c53bf128",
            "76821d7390d4484f96a328976e59a354",
            "ce484c8713a14c6ebeebdf033e17eec6",
            "c266df7f6de14d18b5686305da93a8c7",
            "473eeca9d38e4e1f9894c651b3e7d0f3",
            "64a145fe83b448fdb14a11759f9a6db8"
          ]
        }
      },
      "source": [
        "preprocess_image(img_path)"
      ],
      "execution_count": null,
      "outputs": [
        {
          "output_type": "display_data",
          "data": {
            "application/vnd.jupyter.widget-view+json": {
              "model_id": "282e603c25704a72998ec036f5e86f40",
              "version_minor": 0,
              "version_major": 2
            },
            "text/plain": [
              "HBox(children=(FloatProgress(value=0.0, max=626.0), HTML(value='')))"
            ]
          },
          "metadata": {
            "tags": []
          }
        },
        {
          "output_type": "stream",
          "text": [
            "Maximum Width: 7016\n",
            "Maximum Height: 4961\n"
          ],
          "name": "stdout"
        },
        {
          "output_type": "display_data",
          "data": {
            "application/vnd.jupyter.widget-view+json": {
              "model_id": "7573c4fedf7d4f3eb9b09b9c102e5ebc",
              "version_minor": 0,
              "version_major": 2
            },
            "text/plain": [
              "HBox(children=(FloatProgress(value=0.0, max=626.0), HTML(value='')))"
            ]
          },
          "metadata": {
            "tags": []
          }
        }
      ]
    },
    {
      "cell_type": "code",
      "metadata": {
        "id": "mASdRTj0j7Iw"
      },
      "source": [
        "w = preprocess_image.w\n",
        "h = preprocess_image.h"
      ],
      "execution_count": null,
      "outputs": []
    },
    {
      "cell_type": "markdown",
      "metadata": {
        "id": "Lp4QqIGUxkdN"
      },
      "source": [
        "#**Text Preprocessing**\n",
        "The text is first saved to an array and then processed over TensorFlow text preprocessing library, by Tokenizing, fitting text to sequences and then padding the texts."
      ]
    },
    {
      "cell_type": "code",
      "metadata": {
        "id": "DpMUKMQWy23o"
      },
      "source": [
        "text_data = []\n",
        "def preprocess_text(path):\n",
        "  from tensorflow.keras.preprocessing.sequence import pad_sequences\n",
        "  import tensorflow\n",
        "  import numpy as np\n",
        "  from tqdm.auto import tqdm\n",
        "  total = 0\n",
        "  for m in os.listdir(path):\n",
        "    total +=1\n",
        "  loop = tqdm(total=total, position=0, leave=False)\n",
        "  #appending text to an array\n",
        "  for k in range(total):\n",
        "    loop.set_description(\"Saving data to array for preprocessing...\".format(k))\n",
        "  for text_path in os.listdir(path):\n",
        "    input_path_text = os.path.join(path, text_path)\n",
        "    with open (input_path_text, \"r\") as myfile:\n",
        "                  data=myfile.readlines()\n",
        "                  text_data.append(data)\n",
        "    loop.update(1)\n",
        "  #preprocessing the txt\n",
        "  print('Processing Text.....')                  \n",
        "  tokenizer = tensorflow.keras.preprocessing.text.Tokenizer( num_words=2000, filters='!\"#$%&()*+,-./:;<=>?@[\\\\]^_`{|}~\\t\\n', lower=True, split=' ', char_level=False, oov_token=\"<OOV>\")\n",
        "  tokenizer.fit_on_texts(text_data)\n",
        "  seq = tokenizer.texts_to_sequences(text_data)\n",
        "  preprocess_text.padded = pad_sequences(seq, padding='post')\n",
        "  print('Processing Completed')"
      ],
      "execution_count": null,
      "outputs": []
    },
    {
      "cell_type": "code",
      "metadata": {
        "id": "Vw61hHDwz5eo",
        "outputId": "9b21c0dd-0e77-464a-e81a-79a48b41d568",
        "colab": {
          "base_uri": "https://localhost:8080/",
          "height": 84,
          "referenced_widgets": [
            "1adab5b1298e40919d7ccec632fda5d7",
            "6ce1b10bdc574754a414574485d10c58",
            "f90d7af32b95484c9a712c5f57ee3263",
            "7cc217910f6e449faa1161acdb4f5194",
            "aeabe9767e42461abadab42db2e4fb69",
            "f676baa806c6488f96372922ac2c605d",
            "998a6079ff994f8c9cf38ddc31211054",
            "969349808749445a9f5671980f07ba93"
          ]
        }
      },
      "source": [
        "preprocess_text(txt_path)"
      ],
      "execution_count": null,
      "outputs": [
        {
          "output_type": "display_data",
          "data": {
            "application/vnd.jupyter.widget-view+json": {
              "model_id": "1adab5b1298e40919d7ccec632fda5d7",
              "version_minor": 0,
              "version_major": 2
            },
            "text/plain": [
              "HBox(children=(FloatProgress(value=0.0, max=626.0), HTML(value='')))"
            ]
          },
          "metadata": {
            "tags": []
          }
        },
        {
          "output_type": "stream",
          "text": [
            "Processing Text.....\n",
            "Processing Completed\n"
          ],
          "name": "stdout"
        }
      ]
    },
    {
      "cell_type": "code",
      "metadata": {
        "id": "VV-TkwNZmxMZ"
      },
      "source": [
        "padded = preprocess_text.padded"
      ],
      "execution_count": null,
      "outputs": []
    },
    {
      "cell_type": "markdown",
      "metadata": {
        "id": "VTcXll985lFt"
      },
      "source": [
        "#**Custom Generator**\n",
        "This generator takes in the image files and text to process them and  pairing the images and texts that is then called by our custom generator class that inturn helps in sending the data to model in batches so as to not have an OOM state."
      ]
    },
    {
      "cell_type": "code",
      "metadata": {
        "id": "IhjBVHuy0HSl"
      },
      "source": [
        "os.chdir('/content')\n",
        "cwd = os.getcwd()\n",
        "directory = str(cwd)+'/training_prep_img'\n",
        "filenames = []\n",
        "def sequencing_data(path):\n",
        "  import os\n",
        "  import shutil\n",
        "  import numpy as np\n",
        "  for subdir, dirs, files in os.walk(path):\n",
        "    for file in files:\n",
        "        filenames.append(file)\n",
        "  os.chdir(path)\n",
        "  np.save('filenames.npy', filenames)\n",
        "  np.save('padded.npy', padded)\n",
        "\n",
        "  from sklearn.utils import shuffle\n",
        "# Saving the name of files to be accessed later\n",
        "  filenames_shuffled, padded_shuffled = shuffle(filenames, padded)\n",
        "  np.save('padded_shuffled.npy', padded_shuffled)\n",
        "  np.save('filenames_shuffled.npy', filenames_shuffled)\n",
        "\n",
        "  from sklearn.model_selection import train_test_split\n",
        "  filenames_shuffled_numpy = np.array(filenames_shuffled)\n",
        "\n",
        "  sequencing_data.X_train_filenames, sequencing_data.X_val_filenames, sequencing_data.y_train, sequencing_data.y_val = train_test_split(filenames_shuffled_numpy, padded_shuffled, test_size=0.2, random_state=1)\n",
        "\n",
        "# You can save these files as well. As you will be using them later for training and validation of your model.\n",
        "  np.save('X_train_filenames.npy', sequencing_data.X_train_filenames)\n",
        "  np.save('y_train.npy', sequencing_data.y_train)\n",
        "\n",
        "  np.save('X_val_filenames.npy', sequencing_data.X_val_filenames)\n",
        "  np.save('y_val.npy', sequencing_data.y_val)"
      ],
      "execution_count": null,
      "outputs": []
    },
    {
      "cell_type": "code",
      "metadata": {
        "id": "XP3fPZme3VAb"
      },
      "source": [
        "sequencing_data(directory)"
      ],
      "execution_count": null,
      "outputs": []
    },
    {
      "cell_type": "code",
      "metadata": {
        "id": "0kL3hUwZtIdG"
      },
      "source": [
        "X_train_filenames = sequencing_data.X_train_filenames\n",
        "X_val_filenames = sequencing_data.X_val_filenames\n",
        "y_train = sequencing_data.y_train\n",
        "y_val = sequencing_data.y_val"
      ],
      "execution_count": null,
      "outputs": []
    },
    {
      "cell_type": "code",
      "metadata": {
        "id": "-w0WBFOk3gg0"
      },
      "source": [
        "from skimage.transform import resize\n",
        "class My_Custom_Generator(tf.keras.utils.Sequence) :\n",
        "  \n",
        "  def __init__(self, image_filenames, labels, batch_size) :\n",
        "    self.image_filenames = image_filenames\n",
        "    self.labels = labels\n",
        "    self.batch_size = batch_size\n",
        "    \n",
        "    \n",
        "  def __len__(self) :\n",
        "    return (np.ceil(len(self.image_filenames) / float(self.batch_size))).astype(np.int)\n",
        "  \n",
        "  \n",
        "  def __getitem__(self, idx) :\n",
        "    batch_x = self.image_filenames[idx * self.batch_size : (idx+1) * self.batch_size]\n",
        "    batch_y = self.labels[idx * self.batch_size : (idx+1) * self.batch_size]\n",
        "    return np.array([\n",
        "                 resize(mpimg.imread(str(directory)+'/'+ str(file_name)), (w, h, 1))\n",
        "                  for file_name in batch_x])/255.0, np.array(batch_y)"
      ],
      "execution_count": null,
      "outputs": []
    },
    {
      "cell_type": "code",
      "metadata": {
        "id": "1QpK-BqA4sI8"
      },
      "source": [
        "batch_size = 16\n",
        "\n",
        "my_training_batch_generator = My_Custom_Generator(X_train_filenames, y_train, batch_size)\n",
        "my_validation_batch_generator = My_Custom_Generator(X_val_filenames, y_val, batch_size)"
      ],
      "execution_count": null,
      "outputs": []
    },
    {
      "cell_type": "markdown",
      "metadata": {
        "id": "mj49h_hB6o-t"
      },
      "source": [
        "#**MODEL**\n",
        "This model is based on the research paper *An End-to-End Trainable Neural Network for Image-based Sequence\n",
        "Recognition and Its Application to Scene Text Recognition* by *Baoguang Shi, Xiang Bai and Cong Yao*. The model is not exactly copied but tailored to out application here.\n",
        "\n",
        "The model architecture made by Baoguang Shi, Xiang Bai and Cong Yao is based on the VGG- Very Deep architectures."
      ]
    },
    {
      "cell_type": "code",
      "metadata": {
        "id": "HJZGNK3T4uOB"
      },
      "source": [
        "model = tf.keras.Sequential([\n",
        "  tf.keras.layers.Conv2D(64, (3,3), activation='relu', input_shape=(4961 ,7016, 1)),\n",
        "  tf.keras.layers.MaxPool2D(pool_size=(2,2), strides=3),\n",
        "  tf.keras.layers.Conv2D(64, (3,3), activation='relu'),\n",
        "  tf.keras.layers.MaxPool2D(pool_size=(2,2), strides=3),\n",
        "  tf.keras.layers.Conv2D(128, (3,3), activation='relu'),\n",
        "  tf.keras.layers.MaxPool2D(pool_size=(2,2), strides=3),\n",
        "  tf.keras.layers.Conv2D(256, (3,3), activation = 'relu'),\n",
        "  tf.keras.layers.Conv2D(256, (3,3), activation = 'relu'),\n",
        "  tf.keras.layers.MaxPool2D(pool_size=(2, 1), strides=3),\n",
        "  tf.keras.layers.BatchNormalization(),\n",
        "  tf.keras.layers.Conv2D(512, (3,3), activation = 'relu'),\n",
        "  tf.keras.layers.MaxPool2D(pool_size=(2, 1), strides=3),\n",
        "  tf.keras.layers.Conv2D(512, (3,3), activation = 'relu'),\n",
        "  tf.keras.layers.BatchNormalization(),\n",
        "  tf.keras.layers.Conv2D(256, (3,3), activation = 'relu'),\n",
        "  tf.keras.layers.MaxPool2D(pool_size=(2,2), strides=3),\n",
        "  tf.keras.layers.BatchNormalization(),\n",
        "  tf.keras.layers.MaxPool2D(pool_size=(2, 1), strides=3),\n",
        "  tf.keras.layers.Conv2D(512, (2,2), activation = 'relu'),\n",
        "  tf.keras.layers.Lambda(lambda x: K.squeeze(x, 1)),\n",
        "  tf.keras.layers.Bidirectional(tf.keras.layers.LSTM(128, return_sequences=True, dropout = 0.2)),\n",
        "  tf.keras.layers.Bidirectional(tf.keras.layers.LSTM(128, return_sequences=True, dropout = 0.2)),\n",
        "  tf.keras.layers.Dense(128, activation='relu')\n",
        "])\n",
        "model.summary()"
      ],
      "execution_count": null,
      "outputs": []
    },
    {
      "cell_type": "code",
      "metadata": {
        "id": "eGl-bMwQ4u7t"
      },
      "source": [
        "model.compile(optimizer = 'Adam', loss = 'mean_squared_error', metrics = ['accuracy'])"
      ],
      "execution_count": null,
      "outputs": []
    },
    {
      "cell_type": "code",
      "metadata": {
        "id": "5l2gM3ze4xd0"
      },
      "source": [
        "model.fit(my_training_batch_generator,\n",
        "                   epochs = 100,\n",
        "                   verbose = 1,\n",
        "                   validation_data = my_validation_batch_generator)"
      ],
      "execution_count": null,
      "outputs": []
    },
    {
      "cell_type": "code",
      "metadata": {
        "id": "V_gNFUPwuK3l"
      },
      "source": [
        ""
      ],
      "execution_count": null,
      "outputs": []
    }
  ]
}